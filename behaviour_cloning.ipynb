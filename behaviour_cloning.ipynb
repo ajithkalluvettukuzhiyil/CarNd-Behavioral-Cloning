{
 "cells": [
  {
   "cell_type": "code",
   "execution_count": 1,
   "metadata": {},
   "outputs": [
    {
     "name": "stderr",
     "output_type": "stream",
     "text": [
      "Using TensorFlow backend.\n"
     ]
    }
   ],
   "source": [
    "import csv\n",
    "import cv2\n",
    "import numpy as np\n",
    "\n",
    "import keras\n",
    "from keras.models import Sequential\n",
    "from keras.layers import Flatten, Dense, Activation, MaxPooling2D, Dropout, Lambda\n",
    "from keras.layers.convolutional import Conv2D\n",
    "from keras.models import Model\n",
    "from keras.layers import Cropping2D"
   ]
  },
  {
   "cell_type": "code",
   "execution_count": 2,
   "metadata": {},
   "outputs": [
    {
     "name": "stdout",
     "output_type": "stream",
     "text": [
      "<_csv.reader object at 0x7f0e686b7908>\n"
     ]
    }
   ],
   "source": [
    "lines = []\n",
    "# Read the details from csv file\n",
    "with open('./data/driving_log.csv') as csvfile:\n",
    "    reader = csv.reader(csvfile)\n",
    "    print(reader)\n",
    "    for line in reader:\n",
    "        lines.append(line)"
   ]
  },
  {
   "cell_type": "code",
   "execution_count": 3,
   "metadata": {},
   "outputs": [],
   "source": [
    "from sklearn.model_selection import train_test_split\n",
    "train_samples, validation_samples = train_test_split(lines, test_size=0.2)\n",
    "train_samples = np.array(train_samples)\n",
    "validation_samples = np.array(validation_samples)"
   ]
  },
  {
   "cell_type": "code",
   "execution_count": 4,
   "metadata": {},
   "outputs": [],
   "source": [
    "import cv2\n",
    "import numpy as np\n",
    "import sklearn\n",
    "from sklearn.utils import shuffle\n",
    "\n",
    "def generator(samples, batch_size=32):\n",
    "    num_samples = len(samples)\n",
    "    while 1: # Loop forever so the generator never terminates\n",
    "        shuffle(samples)\n",
    "        for offset in range(0, num_samples, batch_size):\n",
    "            batch_samples = samples[offset:offset+batch_size]\n",
    "\n",
    "            images = []\n",
    "            angles = []\n",
    "            for batch_sample in batch_samples:\n",
    "                name = './data/IMG/'+batch_sample[0].split('/')[-1]\n",
    "                center_image = cv2.imread(name)\n",
    "                center_angle = float(batch_sample[3])\n",
    "                images.append(center_image)\n",
    "                angles.append(center_angle)\n",
    "\n",
    "            # trim image to only see section with road\n",
    "            X_train = np.array(images)\n",
    "            y_train = np.array(angles)\n",
    "            yield sklearn.utils.shuffle(X_train, y_train)\n",
    "\n"
   ]
  },
  {
   "cell_type": "code",
   "execution_count": 5,
   "metadata": {},
   "outputs": [],
   "source": [
    "    images= []\n",
    "    measurements = []\n",
    "    correction = 0.15\n",
    "    for line in lines:\n",
    "        for i in range(3):\n",
    "            source_path = line[i]\n",
    "            #print(\"Source_path\",source_path)\n",
    "            tokens = source_path.split('/')\n",
    "            filename = tokens[-1]\n",
    "            local_path = './data/IMG/'+filename\n",
    "            image = cv2.imread(local_path)\n",
    "            #cv2.imshow(\"image\",image)\n",
    "            #cv2.waitKey(0)\n",
    "            images.append(image)\n",
    "            measurement = float(line[3])\n",
    "            if (i==0):\n",
    "                measurements.append(measurement)\n",
    "            elif (i==1):\n",
    "                measurements.append(measurement+correction)\n",
    "            elif(i==2):\n",
    "                measurements.append(measurement-correction)"
   ]
  },
  {
   "cell_type": "code",
   "execution_count": 6,
   "metadata": {},
   "outputs": [],
   "source": [
    "augumented_images = []\n",
    "augumented_measurements = []\n",
    "\n",
    "for image,measurement in zip(images,measurements):\n",
    "    augumented_images.append(image)\n",
    "    augumented_measurements.append(measurement)\n",
    "    flipped_image = cv2.flip(image,1)\n",
    "    flipped_measurement = float(measurement) * -1.0\n",
    "    augumented_images.append(flipped_image)\n",
    "    augumented_measurements.append(flipped_measurement)\n",
    "    \n",
    "X_train = np.array(augumented_images)\n",
    "y_train = np.array(augumented_measurements)"
   ]
  },
  {
   "cell_type": "code",
   "execution_count": 7,
   "metadata": {},
   "outputs": [],
   "source": [
    "# compile and train the model using the generator function\n",
    "train_generator = generator(X_train, batch_size=32)\n",
    "validation_generator = generator(y_train, batch_size=32)"
   ]
  },
  {
   "cell_type": "code",
   "execution_count": 8,
   "metadata": {},
   "outputs": [
    {
     "name": "stdout",
     "output_type": "stream",
     "text": [
      "_________________________________________________________________\n",
      "Layer (type)                 Output Shape              Param #   \n",
      "=================================================================\n",
      "lambda_1 (Lambda)            (None, 160, 320, 3)       0         \n",
      "_________________________________________________________________\n",
      "cropping2d_1 (Cropping2D)    (None, 65, 320, 3)        0         \n",
      "_________________________________________________________________\n",
      "conv2d_1 (Conv2D)            (None, 31, 158, 24)       1824      \n",
      "_________________________________________________________________\n",
      "conv2d_2 (Conv2D)            (None, 14, 77, 36)        21636     \n",
      "_________________________________________________________________\n",
      "max_pooling2d_1 (MaxPooling2 (None, 13, 76, 36)        0         \n",
      "_________________________________________________________________\n",
      "conv2d_3 (Conv2D)            (None, 5, 36, 48)         43248     \n",
      "_________________________________________________________________\n",
      "max_pooling2d_2 (MaxPooling2 (None, 4, 35, 48)         0         \n",
      "_________________________________________________________________\n",
      "conv2d_4 (Conv2D)            (None, 4, 35, 64)         3136      \n",
      "_________________________________________________________________\n",
      "dropout_1 (Dropout)          (None, 4, 35, 64)         0         \n",
      "_________________________________________________________________\n",
      "max_pooling2d_3 (MaxPooling2 (None, 4, 35, 64)         0         \n",
      "_________________________________________________________________\n",
      "conv2d_5 (Conv2D)            (None, 2, 33, 64)         36928     \n",
      "_________________________________________________________________\n",
      "max_pooling2d_4 (MaxPooling2 (None, 2, 33, 64)         0         \n",
      "_________________________________________________________________\n",
      "flatten_1 (Flatten)          (None, 4224)              0         \n",
      "_________________________________________________________________\n",
      "dense_1 (Dense)              (None, 1164)              4917900   \n",
      "_________________________________________________________________\n",
      "dense_2 (Dense)              (None, 100)               116500    \n",
      "_________________________________________________________________\n",
      "dense_3 (Dense)              (None, 50)                5050      \n",
      "_________________________________________________________________\n",
      "dense_4 (Dense)              (None, 10)                510       \n",
      "_________________________________________________________________\n",
      "dense_5 (Dense)              (None, 1)                 11        \n",
      "=================================================================\n",
      "Total params: 5,146,743\n",
      "Trainable params: 5,146,743\n",
      "Non-trainable params: 0\n",
      "_________________________________________________________________\n",
      "Train on 33273 samples, validate on 8319 samples\n",
      "Epoch 1/10\n",
      "33273/33273 [==============================] - 80s 2ms/step - loss: 0.0499 - val_loss: 0.0336\n",
      "Epoch 2/10\n",
      "33273/33273 [==============================] - 78s 2ms/step - loss: 0.0372 - val_loss: 0.0352\n",
      "Epoch 3/10\n",
      "33273/33273 [==============================] - 78s 2ms/step - loss: 0.0364 - val_loss: 0.0360\n",
      "Epoch 4/10\n",
      "33273/33273 [==============================] - 78s 2ms/step - loss: 0.0362 - val_loss: 0.0336\n",
      "Epoch 5/10\n",
      "33273/33273 [==============================] - 78s 2ms/step - loss: 0.0353 - val_loss: 0.0373\n",
      "Epoch 6/10\n",
      "33273/33273 [==============================] - 78s 2ms/step - loss: 0.0346 - val_loss: 0.0310\n",
      "Epoch 7/10\n",
      "33273/33273 [==============================] - 78s 2ms/step - loss: 0.0345 - val_loss: 0.0310\n",
      "Epoch 8/10\n",
      "33273/33273 [==============================] - 78s 2ms/step - loss: 0.0333 - val_loss: 0.0326\n",
      "Epoch 9/10\n",
      "33273/33273 [==============================] - 78s 2ms/step - loss: 0.0322 - val_loss: 0.0329\n",
      "Epoch 10/10\n",
      "33273/33273 [==============================] - 78s 2ms/step - loss: 0.0318 - val_loss: 0.0316\n",
      "Model saved\n"
     ]
    }
   ],
   "source": [
    "ch, row, col = 3, 80, 320  # Trimmed image format\n",
    "\n",
    "model = Sequential()\n",
    "# Preprocess incoming data, centered around zero with small standard deviation \n",
    "model.add(Lambda(lambda x: x/255.0 - 1.,\n",
    "        input_shape=(160,320,3)))\n",
    "#model = Sequential()\n",
    "#model.add(Lambda(lambda x:x/255.0-0.5, input_shape=(160,320,3)))\n",
    "model.add(Cropping2D(cropping=((70,25), (0,0)), input_shape=(3,160,320)))\n",
    "model.add(Conv2D(24,(5,5),strides=(2,2),activation='relu'))\n",
    "model.add(Conv2D(36,(5,5),strides=(2,2),activation='relu'))\n",
    "model.add(MaxPooling2D(strides=(1,1)))\n",
    "model.add(Conv2D(48,(5,5),strides=(2,2),activation='relu'))\n",
    "model.add(MaxPooling2D(strides=(1,1)))\n",
    "model.add(Conv2D(64,(1,1),activation='relu'))\n",
    "model.add(Dropout(0.5))\n",
    "model.add(MaxPooling2D(pool_size=(1, 1),strides=(1,1)))\n",
    "model.add(Conv2D(64,(3,3),activation='relu'))\n",
    "model.add(MaxPooling2D(pool_size=(1, 1),strides=(1,1)))\n",
    "model.add(Flatten())\n",
    "model.add(Dense(1164))\n",
    "model.add(Dense(100))\n",
    "model.add(Dense(50))\n",
    "model.add(Dense(10))\n",
    "model.add(Dense(1))\n",
    "model.summary()\n",
    "\n",
    "model.compile(optimizer='adam',loss='mse')\n",
    "\n",
    "model.fit(X_train,y_train, epochs = 10,validation_split=0.2,shuffle=True)\n",
    "\n",
    "#model.fit_generator(train_generator, steps_per_epoch= len(train_samples), validation_data=validation_generator, validation_steps=len(validation_samples), epochs=3)\n",
    "\n",
    "model.save('model.h5')\n",
    "\n",
    "print('Model saved')\n",
    "\n",
    "exit()"
   ]
  },
  {
   "cell_type": "code",
   "execution_count": null,
   "metadata": {},
   "outputs": [],
   "source": []
  }
 ],
 "metadata": {
  "kernelspec": {
   "display_name": "Python 3",
   "language": "python",
   "name": "python3"
  },
  "language_info": {
   "codemirror_mode": {
    "name": "ipython",
    "version": 3
   },
   "file_extension": ".py",
   "mimetype": "text/x-python",
   "name": "python",
   "nbconvert_exporter": "python",
   "pygments_lexer": "ipython3",
   "version": "3.5.2"
  },
  "widgets": {
   "state": {},
   "version": "1.1.2"
  }
 },
 "nbformat": 4,
 "nbformat_minor": 2
}
